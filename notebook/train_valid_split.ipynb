{
 "cells": [
  {
   "cell_type": "code",
   "execution_count": 1,
   "metadata": {},
   "outputs": [],
   "source": [
    "#!pip install matplotlib"
   ]
  },
  {
   "cell_type": "code",
   "execution_count": 21,
   "metadata": {},
   "outputs": [],
   "source": [
    "import pandas as pd\n",
    "import numpy as np\n",
    "import matplotlib.pyplot as plt"
   ]
  },
  {
   "cell_type": "code",
   "execution_count": 22,
   "metadata": {},
   "outputs": [],
   "source": [
    "train_df = pd.read_csv('/opt/ml/FLUE/level2_klue_nlp-level2-nlp-11/notebook/flue_train_data.csv')"
   ]
  },
  {
   "cell_type": "code",
   "execution_count": 23,
   "metadata": {},
   "outputs": [
    {
     "data": {
      "text/plain": [
       "Unnamed: 0         int64\n",
       "document_id       object\n",
       "sentence          object\n",
       "subject_entity    object\n",
       "object_entity     object\n",
       "label             object\n",
       "dtype: object"
      ]
     },
     "execution_count": 23,
     "metadata": {},
     "output_type": "execute_result"
    }
   ],
   "source": [
    "train_df.dtypes"
   ]
  },
  {
   "cell_type": "code",
   "execution_count": 24,
   "metadata": {},
   "outputs": [
    {
     "data": {
      "text/html": [
       "<div>\n",
       "<style scoped>\n",
       "    .dataframe tbody tr th:only-of-type {\n",
       "        vertical-align: middle;\n",
       "    }\n",
       "\n",
       "    .dataframe tbody tr th {\n",
       "        vertical-align: top;\n",
       "    }\n",
       "\n",
       "    .dataframe thead th {\n",
       "        text-align: right;\n",
       "    }\n",
       "</style>\n",
       "<table border=\"1\" class=\"dataframe\">\n",
       "  <thead>\n",
       "    <tr style=\"text-align: right;\">\n",
       "      <th></th>\n",
       "      <th>Unnamed: 0</th>\n",
       "      <th>document_id</th>\n",
       "      <th>sentence</th>\n",
       "      <th>subject_entity</th>\n",
       "      <th>object_entity</th>\n",
       "      <th>label</th>\n",
       "    </tr>\n",
       "  </thead>\n",
       "  <tbody>\n",
       "    <tr>\n",
       "      <th>0</th>\n",
       "      <td>0</td>\n",
       "      <td>a.vUdBGp.IutKpqRl8aIQPmMcw88-1_570.txt</td>\n",
       "      <td>지형은 남쪽에서 북쪽으로 갈수록 차츰 낮아지며, 알프스 지대·중앙 구릉 지대·북부 ...</td>\n",
       "      <td>{'word': '4대 자연 구역', 'start_idx': 10782, 'end_...</td>\n",
       "      <td>{'word': '북부 독일평야', 'start_idx': 10773, 'end_i...</td>\n",
       "      <td>no_relation</td>\n",
       "    </tr>\n",
       "    <tr>\n",
       "      <th>1</th>\n",
       "      <td>1</td>\n",
       "      <td>a.vUdBGp.IutKpqRl8aIQPmMcw88-1_570.txt</td>\n",
       "      <td>지형은 남쪽에서 북쪽으로 갈수록 차츰 낮아지며, 알프스 지대·중앙 구릉 지대·북부 ...</td>\n",
       "      <td>{'word': '4대 자연 구역', 'start_idx': 10782, 'end_...</td>\n",
       "      <td>{'word': '중앙 구릉 지대', 'start_idx': 10764, 'end_...</td>\n",
       "      <td>no_relation</td>\n",
       "    </tr>\n",
       "    <tr>\n",
       "      <th>2</th>\n",
       "      <td>2</td>\n",
       "      <td>a.vUdBGp.IutKpqRl8aIQPmMcw88-1_570.txt</td>\n",
       "      <td>지형은 남쪽에서 북쪽으로 갈수록 차츰 낮아지며, 알프스 지대·중앙 구릉 지대·북부 ...</td>\n",
       "      <td>{'word': '4대 자연 구역', 'start_idx': 10782, 'end_...</td>\n",
       "      <td>{'word': '알프스 지대', 'start_idx': 10757, 'end_id...</td>\n",
       "      <td>no_relation</td>\n",
       "    </tr>\n",
       "    <tr>\n",
       "      <th>3</th>\n",
       "      <td>3</td>\n",
       "      <td>a.vUdBGp.IutKpqRl8aIQPmMcw88-1_570.txt</td>\n",
       "      <td>독일은 2차세계대전 (나치독일) 당시에 세계 최초의 순항미사일 V-1 로켓과 세계 ...</td>\n",
       "      <td>{'word': '순항미사일', 'start_idx': 13322, 'end_idx...</td>\n",
       "      <td>{'word': 'V-1 로켓', 'start_idx': 13328, 'end_id...</td>\n",
       "      <td>no_relation</td>\n",
       "    </tr>\n",
       "    <tr>\n",
       "      <th>4</th>\n",
       "      <td>4</td>\n",
       "      <td>a.vUdBGp.IutKpqRl8aIQPmMcw88-1_570.txt</td>\n",
       "      <td>독일은 2차세계대전 (나치독일) 당시에 세계 최초의 순항미사일 V-1 로켓과 세계 ...</td>\n",
       "      <td>{'word': '탄도 미사일', 'start_idx': 13343, 'end_id...</td>\n",
       "      <td>{'word': 'V-2 로켓', 'start_idx': 13350, 'end_id...</td>\n",
       "      <td>no_relation</td>\n",
       "    </tr>\n",
       "  </tbody>\n",
       "</table>\n",
       "</div>"
      ],
      "text/plain": [
       "   Unnamed: 0                             document_id  \\\n",
       "0           0  a.vUdBGp.IutKpqRl8aIQPmMcw88-1_570.txt   \n",
       "1           1  a.vUdBGp.IutKpqRl8aIQPmMcw88-1_570.txt   \n",
       "2           2  a.vUdBGp.IutKpqRl8aIQPmMcw88-1_570.txt   \n",
       "3           3  a.vUdBGp.IutKpqRl8aIQPmMcw88-1_570.txt   \n",
       "4           4  a.vUdBGp.IutKpqRl8aIQPmMcw88-1_570.txt   \n",
       "\n",
       "                                            sentence  \\\n",
       "0  지형은 남쪽에서 북쪽으로 갈수록 차츰 낮아지며, 알프스 지대·중앙 구릉 지대·북부 ...   \n",
       "1  지형은 남쪽에서 북쪽으로 갈수록 차츰 낮아지며, 알프스 지대·중앙 구릉 지대·북부 ...   \n",
       "2  지형은 남쪽에서 북쪽으로 갈수록 차츰 낮아지며, 알프스 지대·중앙 구릉 지대·북부 ...   \n",
       "3  독일은 2차세계대전 (나치독일) 당시에 세계 최초의 순항미사일 V-1 로켓과 세계 ...   \n",
       "4  독일은 2차세계대전 (나치독일) 당시에 세계 최초의 순항미사일 V-1 로켓과 세계 ...   \n",
       "\n",
       "                                      subject_entity  \\\n",
       "0  {'word': '4대 자연 구역', 'start_idx': 10782, 'end_...   \n",
       "1  {'word': '4대 자연 구역', 'start_idx': 10782, 'end_...   \n",
       "2  {'word': '4대 자연 구역', 'start_idx': 10782, 'end_...   \n",
       "3  {'word': '순항미사일', 'start_idx': 13322, 'end_idx...   \n",
       "4  {'word': '탄도 미사일', 'start_idx': 13343, 'end_id...   \n",
       "\n",
       "                                       object_entity        label  \n",
       "0  {'word': '북부 독일평야', 'start_idx': 10773, 'end_i...  no_relation  \n",
       "1  {'word': '중앙 구릉 지대', 'start_idx': 10764, 'end_...  no_relation  \n",
       "2  {'word': '알프스 지대', 'start_idx': 10757, 'end_id...  no_relation  \n",
       "3  {'word': 'V-1 로켓', 'start_idx': 13328, 'end_id...  no_relation  \n",
       "4  {'word': 'V-2 로켓', 'start_idx': 13350, 'end_id...  no_relation  "
      ]
     },
     "execution_count": 24,
     "metadata": {},
     "output_type": "execute_result"
    }
   ],
   "source": [
    "train_df.head()"
   ]
  },
  {
   "cell_type": "code",
   "execution_count": 25,
   "metadata": {},
   "outputs": [
    {
     "data": {
      "text/plain": [
       "no_relation                             617\n",
       "competition:year                        133\n",
       "competition:place                        50\n",
       "country:game_results                     48\n",
       "org:alternative_name                     40\n",
       "parent relationship:sub relationship     40\n",
       "country:faced_country                    28\n",
       "org:country_of_headquarters              25\n",
       "country:year_of_victory                  12\n",
       "country:population                        6\n",
       "country:number_of_wins                    6\n",
       "country:soccer_player                     3\n",
       "Name: label, dtype: int64"
      ]
     },
     "execution_count": 25,
     "metadata": {},
     "output_type": "execute_result"
    }
   ],
   "source": [
    "#train_label 별 개수 확인인\n",
    "group = train_df['label'].value_counts()\n",
    "group"
   ]
  },
  {
   "cell_type": "code",
   "execution_count": 26,
   "metadata": {},
   "outputs": [
    {
     "data": {
      "image/png": "[encoded data removed]",
      "text/plain": [
       "<Figure size 1080x504 with 1 Axes>"
      ]
     },
     "metadata": {
      "needs_background": "light"
     },
     "output_type": "display_data"
    }
   ],
   "source": [
    "#간단한 비율 확인 EDA\n",
    "fig, axes = plt.subplots(1, 1, figsize=(15, 7))\n",
    "axes.barh(group.index[::-1], group[::-1],color='royalblue')\n",
    "\n",
    "plt.show()"
   ]
  },
  {
   "cell_type": "code",
   "execution_count": 34,
   "metadata": {},
   "outputs": [
    {
     "name": "stdout",
     "output_type": "stream",
     "text": [
      "no_relation                              :   617,  ratio :  0.61210 , valid_count :  123 \n",
      "competition:year                         :   133,  ratio :  0.13194 , valid_count :  26 \n",
      "competition:place                        :    50,  ratio :  0.04960 , valid_count :  9 \n",
      "country:game_results                     :    48,  ratio :  0.04762 , valid_count :  9 \n",
      "org:alternative_name                     :    40,  ratio :  0.03968 , valid_count :  7 \n",
      "parent relationship:sub relationship     :    40,  ratio :  0.03968 , valid_count :  7 \n",
      "country:faced_country                    :    28,  ratio :  0.02778 , valid_count :  5 \n",
      "org:country_of_headquarters              :    25,  ratio :  0.02480 , valid_count :  4 \n",
      "country:year_of_victory                  :    12,  ratio :  0.01190 , valid_count :  2 \n",
      "country:population                       :     6,  ratio :  0.00595 , valid_count :  1 \n",
      "country:number_of_wins                   :     6,  ratio :  0.00595 , valid_count :  1 \n",
      "country:soccer_player                    :     3,  ratio :  0.00298 , valid_count :  0 \n"
     ]
    }
   ],
   "source": [
    "#train라벨별 추출할 valid 개수 계산\n",
    "valid_count = {}\n",
    "valid_ratio = 0.2\n",
    "for x, y in group.items() :\n",
    "  print(f'{x:40} : {y:5},  ratio : {y / len(train_df) : .5f} , valid_count :  { int(int(len(train_df) * valid_ratio) * (y / len(train_df)))} ' )\n",
    "  valid_count[x] = int(int(1008 * 0.2) * (y / len(train_df)))"
   ]
  },
  {
   "cell_type": "code",
   "execution_count": 35,
   "metadata": {},
   "outputs": [
    {
     "name": "stdout",
     "output_type": "stream",
     "text": [
      "{'no_relation': 123, 'competition:year': 26, 'competition:place': 9, 'country:game_results': 9, 'org:alternative_name': 7, 'parent relationship:sub relationship': 7, 'country:faced_country': 5, 'org:country_of_headquarters': 4, 'country:year_of_victory': 2, 'country:population': 1, 'country:number_of_wins': 1, 'country:soccer_player': 0}\n"
     ]
    }
   ],
   "source": [
    "print(valid_count)"
   ]
  },
  {
   "cell_type": "code",
   "execution_count": 36,
   "metadata": {},
   "outputs": [],
   "source": [
    "#추출전 데이터 shuffle\n",
    "train_df = train_df.sample(frac=1)"
   ]
  },
  {
   "cell_type": "code",
   "execution_count": 37,
   "metadata": {},
   "outputs": [],
   "source": [
    "#새로운 dataFrame 정의의\n",
    "new_valid_df = pd.DataFrame(columns=['document_id','sentence','subject_entity','object_entity','label'])\n",
    "new_train_df = pd.DataFrame(columns=['document_id','sentence','subject_entity','object_entity','label'])\n",
    "for idx, item in train_df.iterrows():\n",
    "  #print(item['id'], item['label'])\n",
    "  if valid_count[item['label']] > 0 :\n",
    "    valid_count[item['label']] = valid_count[item['label']] - 1\n",
    "    new_valid_df.loc[idx]=item\n",
    "  else :\n",
    "    new_train_df.loc[idx]=item"
   ]
  },
  {
   "cell_type": "code",
   "execution_count": 38,
   "metadata": {},
   "outputs": [
    {
     "name": "stdout",
     "output_type": "stream",
     "text": [
      "train_df len : 814\n",
      "valid_df len ; 194\n"
     ]
    }
   ],
   "source": [
    "#새로운 train_df, valid_df 길이 계산\n",
    "print( f'train_df len : {len(new_train_df)}')\n",
    "print( f'valid_df len ; {len(new_valid_df)}')"
   ]
  },
  {
   "cell_type": "code",
   "execution_count": 39,
   "metadata": {},
   "outputs": [
    {
     "name": "stdout",
     "output_type": "stream",
     "text": [
      "{'no_relation': 0, 'competition:year': 0, 'competition:place': 0, 'country:game_results': 0, 'org:alternative_name': 0, 'parent relationship:sub relationship': 0, 'country:faced_country': 0, 'org:country_of_headquarters': 0, 'country:year_of_victory': 0, 'country:population': 0, 'country:number_of_wins': 0, 'country:soccer_player': 0}\n"
     ]
    },
    {
     "data": {
      "text/plain": [
       "0"
      ]
     },
     "execution_count": 39,
     "metadata": {},
     "output_type": "execute_result"
    }
   ],
   "source": [
    "#dict 타입 변수에 저장한 데이터 전부 추출되었는지 확인\n",
    "print(valid_count)\n",
    "sum(valid_count.values())"
   ]
  },
  {
   "cell_type": "code",
   "execution_count": 43,
   "metadata": {},
   "outputs": [],
   "source": [
    "#train_ valid id types 변경\n",
    "new_valid_df = new_valid_df.astype({'document_id':'str'})\n",
    "new_train_df = new_train_df.astype({'document_id':'str'})"
   ]
  },
  {
   "cell_type": "code",
   "execution_count": 44,
   "metadata": {},
   "outputs": [
    {
     "data": {
      "text/plain": [
       "document_id       object\n",
       "sentence          object\n",
       "subject_entity    object\n",
       "object_entity     object\n",
       "label             object\n",
       "dtype: object"
      ]
     },
     "execution_count": 44,
     "metadata": {},
     "output_type": "execute_result"
    }
   ],
   "source": [
    "new_train_df.dtypes"
   ]
  },
  {
   "cell_type": "code",
   "execution_count": 45,
   "metadata": {},
   "outputs": [
    {
     "data": {
      "text/plain": [
       "document_id       object\n",
       "sentence          object\n",
       "subject_entity    object\n",
       "object_entity     object\n",
       "label             object\n",
       "dtype: object"
      ]
     },
     "execution_count": 45,
     "metadata": {},
     "output_type": "execute_result"
    }
   ],
   "source": [
    "new_valid_df.dtypes"
   ]
  },
  {
   "cell_type": "code",
   "execution_count": 46,
   "metadata": {},
   "outputs": [
    {
     "data": {
      "text/html": [
       "<div>\n",
       "<style scoped>\n",
       "    .dataframe tbody tr th:only-of-type {\n",
       "        vertical-align: middle;\n",
       "    }\n",
       "\n",
       "    .dataframe tbody tr th {\n",
       "        vertical-align: top;\n",
       "    }\n",
       "\n",
       "    .dataframe thead th {\n",
       "        text-align: right;\n",
       "    }\n",
       "</style>\n",
       "<table border=\"1\" class=\"dataframe\">\n",
       "  <thead>\n",
       "    <tr style=\"text-align: right;\">\n",
       "      <th></th>\n",
       "      <th>document_id</th>\n",
       "      <th>sentence</th>\n",
       "      <th>subject_entity</th>\n",
       "      <th>object_entity</th>\n",
       "      <th>label</th>\n",
       "    </tr>\n",
       "  </thead>\n",
       "  <tbody>\n",
       "    <tr>\n",
       "      <th>148</th>\n",
       "      <td>a.vUdBGp.IutKpqRl8aIQPmMcw88-1_570.txt</td>\n",
       "      <td>독일 축구 국가대표팀은 1954년, 1974년, 1990년, 2014년 FIFA 월...</td>\n",
       "      <td>{'word': '독일', 'start_idx': 27037, 'end_idx': ...</td>\n",
       "      <td>{'word': '1954년', 'start_idx': 27050, 'end_idx...</td>\n",
       "      <td>country:year_of_victory</td>\n",
       "    </tr>\n",
       "    <tr>\n",
       "      <th>305</th>\n",
       "      <td>a8x9sfUJCJjdetRM9Gdo2ickz0fi-이탈리아.txt</td>\n",
       "      <td>이탈리아는 영국으로부터 대략 19세기 말쯤 축구를 받아들였는데 영국과 독일 스페인과...</td>\n",
       "      <td>{'word': '이탈리아', 'start_idx': 38915, 'end_idx'...</td>\n",
       "      <td>{'word': '2006년', 'start_idx': 39010, 'end_idx...</td>\n",
       "      <td>country:year_of_victory</td>\n",
       "    </tr>\n",
       "    <tr>\n",
       "      <th>302</th>\n",
       "      <td>a8x9sfUJCJjdetRM9Gdo2ickz0fi-이탈리아.txt</td>\n",
       "      <td>이탈리아는 영국으로부터 대략 19세기 말쯤 축구를 받아들였는데 영국과 독일 스페인과...</td>\n",
       "      <td>{'word': '이탈리아', 'start_idx': 38915, 'end_idx'...</td>\n",
       "      <td>{'word': '1934년', 'start_idx': 38985, 'end_idx...</td>\n",
       "      <td>country:year_of_victory</td>\n",
       "    </tr>\n",
       "    <tr>\n",
       "      <th>172</th>\n",
       "      <td>a.vUdBGp.IutKpqRl8aIQPmMcw88-1_570.txt</td>\n",
       "      <td>대한민국의 V-리그도 리그전 방식을 사용한다.</td>\n",
       "      <td>{'word': 'V-리그', 'start_idx': 33992, 'end_idx'...</td>\n",
       "      <td>{'word': '대한민국', 'start_idx': 33986, 'end_idx'...</td>\n",
       "      <td>org:country_of_headquarters</td>\n",
       "    </tr>\n",
       "    <tr>\n",
       "      <th>150</th>\n",
       "      <td>a.vUdBGp.IutKpqRl8aIQPmMcw88-1_570.txt</td>\n",
       "      <td>독일 축구 국가대표팀은 1954년, 1974년, 1990년, 2014년 FIFA 월...</td>\n",
       "      <td>{'word': '독일', 'start_idx': 27037, 'end_idx': ...</td>\n",
       "      <td>{'word': '1990년', 'start_idx': 27064, 'end_idx...</td>\n",
       "      <td>country:year_of_victory</td>\n",
       "    </tr>\n",
       "  </tbody>\n",
       "</table>\n",
       "</div>"
      ],
      "text/plain": [
       "                                document_id  \\\n",
       "148  a.vUdBGp.IutKpqRl8aIQPmMcw88-1_570.txt   \n",
       "305   a8x9sfUJCJjdetRM9Gdo2ickz0fi-이탈리아.txt   \n",
       "302   a8x9sfUJCJjdetRM9Gdo2ickz0fi-이탈리아.txt   \n",
       "172  a.vUdBGp.IutKpqRl8aIQPmMcw88-1_570.txt   \n",
       "150  a.vUdBGp.IutKpqRl8aIQPmMcw88-1_570.txt   \n",
       "\n",
       "                                              sentence  \\\n",
       "148  독일 축구 국가대표팀은 1954년, 1974년, 1990년, 2014년 FIFA 월...   \n",
       "305  이탈리아는 영국으로부터 대략 19세기 말쯤 축구를 받아들였는데 영국과 독일 스페인과...   \n",
       "302  이탈리아는 영국으로부터 대략 19세기 말쯤 축구를 받아들였는데 영국과 독일 스페인과...   \n",
       "172                          대한민국의 V-리그도 리그전 방식을 사용한다.   \n",
       "150  독일 축구 국가대표팀은 1954년, 1974년, 1990년, 2014년 FIFA 월...   \n",
       "\n",
       "                                        subject_entity  \\\n",
       "148  {'word': '독일', 'start_idx': 27037, 'end_idx': ...   \n",
       "305  {'word': '이탈리아', 'start_idx': 38915, 'end_idx'...   \n",
       "302  {'word': '이탈리아', 'start_idx': 38915, 'end_idx'...   \n",
       "172  {'word': 'V-리그', 'start_idx': 33992, 'end_idx'...   \n",
       "150  {'word': '독일', 'start_idx': 27037, 'end_idx': ...   \n",
       "\n",
       "                                         object_entity  \\\n",
       "148  {'word': '1954년', 'start_idx': 27050, 'end_idx...   \n",
       "305  {'word': '2006년', 'start_idx': 39010, 'end_idx...   \n",
       "302  {'word': '1934년', 'start_idx': 38985, 'end_idx...   \n",
       "172  {'word': '대한민국', 'start_idx': 33986, 'end_idx'...   \n",
       "150  {'word': '1990년', 'start_idx': 27064, 'end_idx...   \n",
       "\n",
       "                           label  \n",
       "148      country:year_of_victory  \n",
       "305      country:year_of_victory  \n",
       "302      country:year_of_victory  \n",
       "172  org:country_of_headquarters  \n",
       "150      country:year_of_victory  "
      ]
     },
     "execution_count": 46,
     "metadata": {},
     "output_type": "execute_result"
    }
   ],
   "source": [
    "new_train_df.head()"
   ]
  },
  {
   "cell_type": "code",
   "execution_count": 47,
   "metadata": {},
   "outputs": [
    {
     "data": {
      "text/html": [
       "<div>\n",
       "<style scoped>\n",
       "    .dataframe tbody tr th:only-of-type {\n",
       "        vertical-align: middle;\n",
       "    }\n",
       "\n",
       "    .dataframe tbody tr th {\n",
       "        vertical-align: top;\n",
       "    }\n",
       "\n",
       "    .dataframe thead th {\n",
       "        text-align: right;\n",
       "    }\n",
       "</style>\n",
       "<table border=\"1\" class=\"dataframe\">\n",
       "  <thead>\n",
       "    <tr style=\"text-align: right;\">\n",
       "      <th></th>\n",
       "      <th>document_id</th>\n",
       "      <th>sentence</th>\n",
       "      <th>subject_entity</th>\n",
       "      <th>object_entity</th>\n",
       "      <th>label</th>\n",
       "    </tr>\n",
       "  </thead>\n",
       "  <tbody>\n",
       "    <tr>\n",
       "      <th>725</th>\n",
       "      <td>aTzoyXPQYyGdxZ26jCPxhPAWToRW-571_1140.txt</td>\n",
       "      <td>4강전에서 와 의 경기에서 1-1로 동점을 이루자 승부차기 4-3으로 아르헨티나가 ...</td>\n",
       "      <td>{'word': '아르헨티나', 'start_idx': 30250, 'end_idx...</td>\n",
       "      <td>{'word': '결승전에 진출', 'start_idx': 30257, 'end_i...</td>\n",
       "      <td>country:game_results</td>\n",
       "    </tr>\n",
       "    <tr>\n",
       "      <th>94</th>\n",
       "      <td>a.vUdBGp.IutKpqRl8aIQPmMcw88-1_570.txt</td>\n",
       "      <td>독일의 르네상스기에는 알브레히트 뒤러, 한스 홀바인, 마티아스 그뤼네발트, 루카스 ...</td>\n",
       "      <td>{'word': '독일', 'start_idx': 24220, 'end_idx': ...</td>\n",
       "      <td>{'word': '루벤스', 'start_idx': 24295, 'end_idx':...</td>\n",
       "      <td>no_relation</td>\n",
       "    </tr>\n",
       "    <tr>\n",
       "      <th>978</th>\n",
       "      <td>aXHwzWmvaNXjhbrsM0rJr0HrSdj0-1141_1710.txt</td>\n",
       "      <td>이토록 번영한 로마 제국마저 쇠퇴의 흐름을 피할 수 없었기에, 기원후 300년 경에...</td>\n",
       "      <td>{'word': '로물루스 아우구스투스', 'start_idx': 29411, 'e...</td>\n",
       "      <td>{'word': '로마', 'start_idx': 29282, 'end_idx': ...</td>\n",
       "      <td>no_relation</td>\n",
       "    </tr>\n",
       "    <tr>\n",
       "      <th>554</th>\n",
       "      <td>aRGw3EcUy1VJbMWsOhc2nNHLdUhe-2281_2852.txt</td>\n",
       "      <td>일반적으로 유럽의 5대 리그로 불리는 스페인 프리메라리가, 이탈리아 세리에 A, 잉...</td>\n",
       "      <td>{'word': '프리메라 디비시온', 'start_idx': 3303, 'end_...</td>\n",
       "      <td>{'word': '아르헨티나', 'start_idx': 3297, 'end_idx'...</td>\n",
       "      <td>org:country_of_headquarters</td>\n",
       "    </tr>\n",
       "    <tr>\n",
       "      <th>820</th>\n",
       "      <td>aXHwzWmvaNXjhbrsM0rJr0HrSdj0-1141_1710.txt</td>\n",
       "      <td>고대 올림픽의 종목으로는 육상, 5종 경기(원반던지기, 창던지기, 달리기, 레슬링,...</td>\n",
       "      <td>{'word': '고대 올림픽의 종목', 'start_idx': 3339, 'end...</td>\n",
       "      <td>{'word': '복싱', 'start_idx': 3393, 'end_idx': 3...</td>\n",
       "      <td>no_relation</td>\n",
       "    </tr>\n",
       "  </tbody>\n",
       "</table>\n",
       "</div>"
      ],
      "text/plain": [
       "                                    document_id  \\\n",
       "725   aTzoyXPQYyGdxZ26jCPxhPAWToRW-571_1140.txt   \n",
       "94       a.vUdBGp.IutKpqRl8aIQPmMcw88-1_570.txt   \n",
       "978  aXHwzWmvaNXjhbrsM0rJr0HrSdj0-1141_1710.txt   \n",
       "554  aRGw3EcUy1VJbMWsOhc2nNHLdUhe-2281_2852.txt   \n",
       "820  aXHwzWmvaNXjhbrsM0rJr0HrSdj0-1141_1710.txt   \n",
       "\n",
       "                                              sentence  \\\n",
       "725  4강전에서 와 의 경기에서 1-1로 동점을 이루자 승부차기 4-3으로 아르헨티나가 ...   \n",
       "94   독일의 르네상스기에는 알브레히트 뒤러, 한스 홀바인, 마티아스 그뤼네발트, 루카스 ...   \n",
       "978  이토록 번영한 로마 제국마저 쇠퇴의 흐름을 피할 수 없었기에, 기원후 300년 경에...   \n",
       "554  일반적으로 유럽의 5대 리그로 불리는 스페인 프리메라리가, 이탈리아 세리에 A, 잉...   \n",
       "820  고대 올림픽의 종목으로는 육상, 5종 경기(원반던지기, 창던지기, 달리기, 레슬링,...   \n",
       "\n",
       "                                        subject_entity  \\\n",
       "725  {'word': '아르헨티나', 'start_idx': 30250, 'end_idx...   \n",
       "94   {'word': '독일', 'start_idx': 24220, 'end_idx': ...   \n",
       "978  {'word': '로물루스 아우구스투스', 'start_idx': 29411, 'e...   \n",
       "554  {'word': '프리메라 디비시온', 'start_idx': 3303, 'end_...   \n",
       "820  {'word': '고대 올림픽의 종목', 'start_idx': 3339, 'end...   \n",
       "\n",
       "                                         object_entity  \\\n",
       "725  {'word': '결승전에 진출', 'start_idx': 30257, 'end_i...   \n",
       "94   {'word': '루벤스', 'start_idx': 24295, 'end_idx':...   \n",
       "978  {'word': '로마', 'start_idx': 29282, 'end_idx': ...   \n",
       "554  {'word': '아르헨티나', 'start_idx': 3297, 'end_idx'...   \n",
       "820  {'word': '복싱', 'start_idx': 3393, 'end_idx': 3...   \n",
       "\n",
       "                           label  \n",
       "725         country:game_results  \n",
       "94                   no_relation  \n",
       "978                  no_relation  \n",
       "554  org:country_of_headquarters  \n",
       "820                  no_relation  "
      ]
     },
     "execution_count": 47,
     "metadata": {},
     "output_type": "execute_result"
    }
   ],
   "source": [
    "new_valid_df.head()"
   ]
  },
  {
   "cell_type": "code",
   "execution_count": 48,
   "metadata": {},
   "outputs": [
    {
     "ename": "KeyError",
     "evalue": "'id'",
     "output_type": "error",
     "traceback": [
      "\u001b[0;31m---------------------------------------------------------------------------\u001b[0m",
      "\u001b[0;31mKeyError\u001b[0m                                  Traceback (most recent call last)",
      "\u001b[0;32m/opt/conda/lib/python3.8/site-packages/pandas/core/indexes/base.py\u001b[0m in \u001b[0;36mget_loc\u001b[0;34m(self, key, method, tolerance)\u001b[0m\n\u001b[1;32m   3802\u001b[0m             \u001b[0;32mtry\u001b[0m\u001b[0;34m:\u001b[0m\u001b[0;34m\u001b[0m\u001b[0;34m\u001b[0m\u001b[0m\n\u001b[0;32m-> 3803\u001b[0;31m                 \u001b[0;32mreturn\u001b[0m \u001b[0mself\u001b[0m\u001b[0;34m.\u001b[0m\u001b[0m_engine\u001b[0m\u001b[0;34m.\u001b[0m\u001b[0mget_loc\u001b[0m\u001b[0;34m(\u001b[0m\u001b[0mcasted_key\u001b[0m\u001b[0;34m)\u001b[0m\u001b[0;34m\u001b[0m\u001b[0;34m\u001b[0m\u001b[0m\n\u001b[0m\u001b[1;32m   3804\u001b[0m             \u001b[0;32mexcept\u001b[0m \u001b[0mKeyError\u001b[0m \u001b[0;32mas\u001b[0m \u001b[0merr\u001b[0m\u001b[0;34m:\u001b[0m\u001b[0;34m\u001b[0m\u001b[0;34m\u001b[0m\u001b[0m\n",
      "\u001b[0;32m/opt/conda/lib/python3.8/site-packages/pandas/_libs/index.pyx\u001b[0m in \u001b[0;36mpandas._libs.index.IndexEngine.get_loc\u001b[0;34m()\u001b[0m\n",
      "\u001b[0;32m/opt/conda/lib/python3.8/site-packages/pandas/_libs/index.pyx\u001b[0m in \u001b[0;36mpandas._libs.index.IndexEngine.get_loc\u001b[0;34m()\u001b[0m\n",
      "\u001b[0;32mpandas/_libs/hashtable_class_helper.pxi\u001b[0m in \u001b[0;36mpandas._libs.hashtable.PyObjectHashTable.get_item\u001b[0;34m()\u001b[0m\n",
      "\u001b[0;32mpandas/_libs/hashtable_class_helper.pxi\u001b[0m in \u001b[0;36mpandas._libs.hashtable.PyObjectHashTable.get_item\u001b[0;34m()\u001b[0m\n",
      "\u001b[0;31mKeyError\u001b[0m: 'id'",
      "\nThe above exception was the direct cause of the following exception:\n",
      "\u001b[0;31mKeyError\u001b[0m                                  Traceback (most recent call last)",
      "\u001b[0;32m/tmp/ipykernel_20963/3282123229.py\u001b[0m in \u001b[0;36m<cell line: 2>\u001b[0;34m()\u001b[0m\n\u001b[1;32m      1\u001b[0m \u001b[0;31m#중복 index 확인\u001b[0m\u001b[0;34m\u001b[0m\u001b[0;34m\u001b[0m\u001b[0;34m\u001b[0m\u001b[0m\n\u001b[0;32m----> 2\u001b[0;31m \u001b[0mtrain_id\u001b[0m \u001b[0;34m=\u001b[0m \u001b[0mnew_train_df\u001b[0m\u001b[0;34m[\u001b[0m\u001b[0;34m'id'\u001b[0m\u001b[0;34m]\u001b[0m\u001b[0;34m.\u001b[0m\u001b[0mtolist\u001b[0m\u001b[0;34m(\u001b[0m\u001b[0;34m)\u001b[0m\u001b[0;34m\u001b[0m\u001b[0;34m\u001b[0m\u001b[0m\n\u001b[0m\u001b[1;32m      3\u001b[0m \u001b[0mvalid_id\u001b[0m \u001b[0;34m=\u001b[0m \u001b[0mnew_valid_df\u001b[0m\u001b[0;34m[\u001b[0m\u001b[0;34m'id'\u001b[0m\u001b[0;34m]\u001b[0m\u001b[0;34m.\u001b[0m\u001b[0mtolist\u001b[0m\u001b[0;34m(\u001b[0m\u001b[0;34m)\u001b[0m\u001b[0;34m\u001b[0m\u001b[0;34m\u001b[0m\u001b[0m\n\u001b[1;32m      4\u001b[0m \u001b[0;34m\u001b[0m\u001b[0m\n\u001b[1;32m      5\u001b[0m \u001b[0mprint\u001b[0m\u001b[0;34m(\u001b[0m\u001b[0;34m\"중복인덱스 확인 : \"\u001b[0m \u001b[0;34m,\u001b[0m \u001b[0mlen\u001b[0m\u001b[0;34m(\u001b[0m\u001b[0mset\u001b[0m\u001b[0;34m(\u001b[0m\u001b[0mtrain_id\u001b[0m\u001b[0;34m)\u001b[0m \u001b[0;34m&\u001b[0m \u001b[0mset\u001b[0m\u001b[0;34m(\u001b[0m\u001b[0mvalid_id\u001b[0m\u001b[0;34m)\u001b[0m\u001b[0;34m)\u001b[0m \u001b[0;34m==\u001b[0m \u001b[0;36m0\u001b[0m \u001b[0;34m)\u001b[0m\u001b[0;34m\u001b[0m\u001b[0;34m\u001b[0m\u001b[0m\n",
      "\u001b[0;32m/opt/conda/lib/python3.8/site-packages/pandas/core/frame.py\u001b[0m in \u001b[0;36m__getitem__\u001b[0;34m(self, key)\u001b[0m\n\u001b[1;32m   3802\u001b[0m             \u001b[0;32mif\u001b[0m \u001b[0mself\u001b[0m\u001b[0;34m.\u001b[0m\u001b[0mcolumns\u001b[0m\u001b[0;34m.\u001b[0m\u001b[0mnlevels\u001b[0m \u001b[0;34m>\u001b[0m \u001b[0;36m1\u001b[0m\u001b[0;34m:\u001b[0m\u001b[0;34m\u001b[0m\u001b[0;34m\u001b[0m\u001b[0m\n\u001b[1;32m   3803\u001b[0m                 \u001b[0;32mreturn\u001b[0m \u001b[0mself\u001b[0m\u001b[0;34m.\u001b[0m\u001b[0m_getitem_multilevel\u001b[0m\u001b[0;34m(\u001b[0m\u001b[0mkey\u001b[0m\u001b[0;34m)\u001b[0m\u001b[0;34m\u001b[0m\u001b[0;34m\u001b[0m\u001b[0m\n\u001b[0;32m-> 3804\u001b[0;31m             \u001b[0mindexer\u001b[0m \u001b[0;34m=\u001b[0m \u001b[0mself\u001b[0m\u001b[0;34m.\u001b[0m\u001b[0mcolumns\u001b[0m\u001b[0;34m.\u001b[0m\u001b[0mget_loc\u001b[0m\u001b[0;34m(\u001b[0m\u001b[0mkey\u001b[0m\u001b[0;34m)\u001b[0m\u001b[0;34m\u001b[0m\u001b[0;34m\u001b[0m\u001b[0m\n\u001b[0m\u001b[1;32m   3805\u001b[0m             \u001b[0;32mif\u001b[0m \u001b[0mis_integer\u001b[0m\u001b[0;34m(\u001b[0m\u001b[0mindexer\u001b[0m\u001b[0;34m)\u001b[0m\u001b[0;34m:\u001b[0m\u001b[0;34m\u001b[0m\u001b[0;34m\u001b[0m\u001b[0m\n\u001b[1;32m   3806\u001b[0m                 \u001b[0mindexer\u001b[0m \u001b[0;34m=\u001b[0m \u001b[0;34m[\u001b[0m\u001b[0mindexer\u001b[0m\u001b[0;34m]\u001b[0m\u001b[0;34m\u001b[0m\u001b[0;34m\u001b[0m\u001b[0m\n",
      "\u001b[0;32m/opt/conda/lib/python3.8/site-packages/pandas/core/indexes/base.py\u001b[0m in \u001b[0;36mget_loc\u001b[0;34m(self, key, method, tolerance)\u001b[0m\n\u001b[1;32m   3803\u001b[0m                 \u001b[0;32mreturn\u001b[0m \u001b[0mself\u001b[0m\u001b[0;34m.\u001b[0m\u001b[0m_engine\u001b[0m\u001b[0;34m.\u001b[0m\u001b[0mget_loc\u001b[0m\u001b[0;34m(\u001b[0m\u001b[0mcasted_key\u001b[0m\u001b[0;34m)\u001b[0m\u001b[0;34m\u001b[0m\u001b[0;34m\u001b[0m\u001b[0m\n\u001b[1;32m   3804\u001b[0m             \u001b[0;32mexcept\u001b[0m \u001b[0mKeyError\u001b[0m \u001b[0;32mas\u001b[0m \u001b[0merr\u001b[0m\u001b[0;34m:\u001b[0m\u001b[0;34m\u001b[0m\u001b[0;34m\u001b[0m\u001b[0m\n\u001b[0;32m-> 3805\u001b[0;31m                 \u001b[0;32mraise\u001b[0m \u001b[0mKeyError\u001b[0m\u001b[0;34m(\u001b[0m\u001b[0mkey\u001b[0m\u001b[0;34m)\u001b[0m \u001b[0;32mfrom\u001b[0m \u001b[0merr\u001b[0m\u001b[0;34m\u001b[0m\u001b[0;34m\u001b[0m\u001b[0m\n\u001b[0m\u001b[1;32m   3806\u001b[0m             \u001b[0;32mexcept\u001b[0m \u001b[0mTypeError\u001b[0m\u001b[0;34m:\u001b[0m\u001b[0;34m\u001b[0m\u001b[0;34m\u001b[0m\u001b[0m\n\u001b[1;32m   3807\u001b[0m                 \u001b[0;31m# If we have a listlike key, _check_indexing_error will raise\u001b[0m\u001b[0;34m\u001b[0m\u001b[0;34m\u001b[0m\u001b[0;34m\u001b[0m\u001b[0m\n",
      "\u001b[0;31mKeyError\u001b[0m: 'id'"
     ]
    }
   ],
   "source": [
    "#중복 index 확인\n",
    "train_id = new_train_df['id'].tolist()\n",
    "valid_id = new_valid_df['id'].tolist()\n",
    "\n",
    "print(\"중복인덱스 확인 : \" , len(set(train_id) & set(valid_id)) == 0 )\n",
    "print(\"총개수 확인 :\" , (len(train_id) + len(valid_id)) == len(train_df) ) #train_df와 개수 같은지 확인\n"
   ]
  },
  {
   "cell_type": "code",
   "execution_count": 49,
   "metadata": {},
   "outputs": [
    {
     "data": {
      "text/plain": [
       "no_relation                             494\n",
       "competition:year                        107\n",
       "competition:place                        41\n",
       "country:game_results                     39\n",
       "org:alternative_name                     33\n",
       "parent relationship:sub relationship     33\n",
       "country:faced_country                    23\n",
       "org:country_of_headquarters              21\n",
       "country:year_of_victory                  10\n",
       "country:number_of_wins                    5\n",
       "country:population                        5\n",
       "country:soccer_player                     3\n",
       "Name: label, dtype: int64"
      ]
     },
     "execution_count": 49,
     "metadata": {},
     "output_type": "execute_result"
    }
   ],
   "source": [
    "#새로운 train 라벨별 개수 확인\n",
    "new_train_group = new_train_df['label'].value_counts()\n",
    "new_train_group"
   ]
  },
  {
   "cell_type": "code",
   "execution_count": 50,
   "metadata": {},
   "outputs": [
    {
     "data": {
      "text/plain": [
       "no_relation                             123\n",
       "competition:year                         26\n",
       "country:game_results                      9\n",
       "competition:place                         9\n",
       "org:alternative_name                      7\n",
       "parent relationship:sub relationship      7\n",
       "country:faced_country                     5\n",
       "org:country_of_headquarters               4\n",
       "country:year_of_victory                   2\n",
       "country:number_of_wins                    1\n",
       "country:population                        1\n",
       "Name: label, dtype: int64"
      ]
     },
     "execution_count": 50,
     "metadata": {},
     "output_type": "execute_result"
    }
   ],
   "source": [
    "#새로운 valid 라벨별 개수 확인\n",
    "new_valid_group = new_valid_df['label'].value_counts()\n",
    "new_valid_group"
   ]
  },
  {
   "cell_type": "code",
   "execution_count": 51,
   "metadata": {},
   "outputs": [
    {
     "data": {
      "image/png": "[encoded data removed]",
      "text/plain": [
       "<Figure size 1440x504 with 2 Axes>"
      ]
     },
     "metadata": {
      "needs_background": "light"
     },
     "output_type": "display_data"
    }
   ],
   "source": [
    "#새로운 train , valid 비율 EDA\n",
    "fig, axes = plt.subplots(1, 2, figsize=(20, 7))\n",
    "axes[0].barh(new_train_group.index[::-1], new_train_group[::-1],color='royalblue')\n",
    "axes[1].barh(new_valid_group.index[::-1], new_valid_group[::-1],color='royalblue')\n",
    "plt.show()"
   ]
  },
  {
   "cell_type": "code",
   "execution_count": 52,
   "metadata": {},
   "outputs": [],
   "source": [
    "#csv 파일저장 , index 제거 및 utf-8 encoding\n",
    "new_train_df.to_csv('./new_train.csv',index=False, encoding = 'utf-8')\n",
    "new_valid_df.to_csv('./new_valid.csv',index=False, encoding = 'utf-8')"
   ]
  },
  {
   "cell_type": "code",
   "execution_count": 63,
   "metadata": {},
   "outputs": [
    {
     "data": {
      "text/plain": [
       "['country:year_of_victory',\n",
       " 'no_relation',\n",
       " 'country:faced_country',\n",
       " 'competition:year',\n",
       " 'country:population',\n",
       " 'country:number_of_wins',\n",
       " 'country:soccer_player',\n",
       " 'org:alternative_name',\n",
       " 'parent relationship:sub relationship',\n",
       " 'country:game_results',\n",
       " 'org:country_of_headquarters',\n",
       " 'competition:place']"
      ]
     },
     "execution_count": 63,
     "metadata": {},
     "output_type": "execute_result"
    }
   ],
   "source": [
    "list(set(train_df['label']))"
   ]
  },
  {
   "cell_type": "code",
   "execution_count": 64,
   "metadata": {},
   "outputs": [],
   "source": [
    "lst = ['country:year_of_victory',\n",
    " 'no_relation',\n",
    " 'country:faced_country',\n",
    " 'competition:year',\n",
    " 'country:population',\n",
    " 'country:number_of_wins',\n",
    " 'country:soccer_player',\n",
    " 'org:alternative_name',\n",
    " 'parent relationship:sub relationship',\n",
    " 'country:game_results',\n",
    " 'org:country_of_headquarters',\n",
    " 'competition:place']"
   ]
  },
  {
   "cell_type": "code",
   "execution_count": 67,
   "metadata": {},
   "outputs": [],
   "source": [
    "my_dict = {}\n",
    "for i,v in enumerate(lst):\n",
    "    my_dict[v] = i"
   ]
  },
  {
   "cell_type": "code",
   "execution_count": 68,
   "metadata": {},
   "outputs": [
    {
     "data": {
      "text/plain": [
       "{'country:year_of_victory': 0,\n",
       " 'no_relation': 1,\n",
       " 'country:faced_country': 2,\n",
       " 'competition:year': 3,\n",
       " 'country:population': 4,\n",
       " 'country:number_of_wins': 5,\n",
       " 'country:soccer_player': 6,\n",
       " 'org:alternative_name': 7,\n",
       " 'parent relationship:sub relationship': 8,\n",
       " 'country:game_results': 9,\n",
       " 'org:country_of_headquarters': 10,\n",
       " 'competition:place': 11}"
      ]
     },
     "execution_count": 68,
     "metadata": {},
     "output_type": "execute_result"
    }
   ],
   "source": [
    "my_dict"
   ]
  },
  {
   "cell_type": "code",
   "execution_count": null,
   "metadata": {},
   "outputs": [],
   "source": []
  }
 ],
 "metadata": {
  "kernelspec": {
   "display_name": "Python 3.8.5 ('base')",
   "language": "python",
   "name": "python3"
  },
  "language_info": {
   "codemirror_mode": {
    "name": "ipython",
    "version": 3
   },
   "file_extension": ".py",
   "mimetype": "text/x-python",
   "name": "python",
   "nbconvert_exporter": "python",
   "pygments_lexer": "ipython3",
   "version": "3.8.5"
  },
  "orig_nbformat": 4,
  "vscode": {
   "interpreter": {
    "hash": "d4d1e4263499bec80672ea0156c357c1ee493ec2b1c70f0acce89fc37c4a6abe"
   }
  }
 },
 "nbformat": 4,
 "nbformat_minor": 2
}
